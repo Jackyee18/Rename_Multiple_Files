{
 "cells": [
  {
   "cell_type": "code",
   "execution_count": 5,
   "id": "6ccaeaa6",
   "metadata": {},
   "outputs": [
    {
     "name": "stdout",
     "output_type": "stream",
     "text": [
      "Renamed C:\\Users\\diepd\\Python File\\Hóa đơn điện tử\\Hóa đơn điện tử\\invoice.zip to C:\\Users\\diepd\\Python File\\Hóa đơn điện tử\\Hóa đơn điện tử\\2023.05.30_C23TSG_173112.zip\n",
      "Renamed C:\\Users\\diepd\\Python File\\Hóa đơn điện tử\\Hóa đơn điện tử\\invoice (1).zip to C:\\Users\\diepd\\Python File\\Hóa đơn điện tử\\Hóa đơn điện tử\\2023.05.30_C23TBH_7492.zip\n",
      "Renamed C:\\Users\\diepd\\Python File\\Hóa đơn điện tử\\Hóa đơn điện tử\\invoice (2).zip to C:\\Users\\diepd\\Python File\\Hóa đơn điện tử\\Hóa đơn điện tử\\2023.05.30_C23TCC_7300.zip\n",
      "Renamed C:\\Users\\diepd\\Python File\\Hóa đơn điện tử\\Hóa đơn điện tử\\invoice (3).zip to C:\\Users\\diepd\\Python File\\Hóa đơn điện tử\\Hóa đơn điện tử\\2023.05.30_C23TCC_7182.zip\n",
      "Renamed C:\\Users\\diepd\\Python File\\Hóa đơn điện tử\\Hóa đơn điện tử\\invoice (4).zip to C:\\Users\\diepd\\Python File\\Hóa đơn điện tử\\Hóa đơn điện tử\\2023.05.30_C23THM_1061.zip\n",
      "Renamed C:\\Users\\diepd\\Python File\\Hóa đơn điện tử\\Hóa đơn điện tử\\invoice (5).zip to C:\\Users\\diepd\\Python File\\Hóa đơn điện tử\\Hóa đơn điện tử\\2023.05.30_C23THM_1060.zip\n",
      "Renamed C:\\Users\\diepd\\Python File\\Hóa đơn điện tử\\Hóa đơn điện tử\\invoice (6).zip to C:\\Users\\diepd\\Python File\\Hóa đơn điện tử\\Hóa đơn điện tử\\2023.05.30_C23TTK_546.zip\n",
      "Renamed C:\\Users\\diepd\\Python File\\Hóa đơn điện tử\\Hóa đơn điện tử\\invoice (7).zip to C:\\Users\\diepd\\Python File\\Hóa đơn điện tử\\Hóa đơn điện tử\\2023.05.30_C23TPA_273.zip\n",
      "Renamed C:\\Users\\diepd\\Python File\\Hóa đơn điện tử\\Hóa đơn điện tử\\invoice (8).zip to C:\\Users\\diepd\\Python File\\Hóa đơn điện tử\\Hóa đơn điện tử\\2023.05.30_C23TKS_266.zip\n",
      "Renamed C:\\Users\\diepd\\Python File\\Hóa đơn điện tử\\Hóa đơn điện tử\\invoice (9).zip to C:\\Users\\diepd\\Python File\\Hóa đơn điện tử\\Hóa đơn điện tử\\2023.05.30_C23TKS_265.zip\n",
      "Renamed C:\\Users\\diepd\\Python File\\Hóa đơn điện tử\\Hóa đơn điện tử\\invoice (10).zip to C:\\Users\\diepd\\Python File\\Hóa đơn điện tử\\Hóa đơn điện tử\\2023.05.30_C23TKS_264.zip\n",
      "Renamed C:\\Users\\diepd\\Python File\\Hóa đơn điện tử\\Hóa đơn điện tử\\invoice (11).zip to C:\\Users\\diepd\\Python File\\Hóa đơn điện tử\\Hóa đơn điện tử\\2023.05.30_C23TNS_260.zip\n"
     ]
    }
   ],
   "source": [
    "import os\n",
    "import glob\n",
    "# nhập đường dẫn chứa các file cần đổi tên\n",
    "directory = r'C:\\Users\\diepd\\Python File\\Hóa đơn điện tử\\Hóa đơn điện tử'\n",
    "# tạo list danh sách tên file cần đổi tên\n",
    "old_filenames = ['invoice', 'invoice (1)', 'invoice (2)','invoice (3)','invoice (4)','invoice (5)','invoice (6)',\n",
    "'invoice (7)','invoice (8)','invoice (9)','invoice (10)','invoice (11)']\n",
    "# tạo list danah sách tên file mới cần đổi tên\n",
    "new_filenames = ['2023.05.30_C23TSG_173112', '2023.05.30_C23TBH_7492', '2023.05.30_C23TCC_7300','2023.05.30_C23TCC_7182',\n",
    "'2023.05.30_C23THM_1061','2023.05.30_C23THM_1060','2023.05.30_C23TTK_546','2023.05.30_C23TPA_273','2023.05.30_C23TKS_266',\n",
    "'2023.05.30_C23TKS_265','2023.05.30_C23TKS_264','2023.05.30_C23TNS_260']\n",
    "\n",
    "# Lần lượt tạo tên path mới cho các file\n",
    "for old_name, new_name in zip(old_filenames, new_filenames):\n",
    "    # tạo mô hình path cho tệp định dạng zip\n",
    "    file_pattern = os.path.join(directory, old_name + '.zip')\n",
    "    \n",
    "    # tìm các cặp đối  nhaua\n",
    "    file_paths = glob.glob(file_pattern)\n",
    "    \n",
    "    # đổi tên file\n",
    "    for file_path in file_paths:\n",
    "        new_path = os.path.join(directory, new_name + '.zip')\n",
    "        os.rename(file_path, new_path)\n",
    "        print(f\"Renamed {file_path} to {new_path}\")\n"
   ]
  },
  {
   "cell_type": "code",
   "execution_count": null,
   "id": "4591f495",
   "metadata": {},
   "outputs": [],
   "source": []
  }
 ],
 "metadata": {
  "kernelspec": {
   "display_name": "Python 3 (ipykernel)",
   "language": "python",
   "name": "python3"
  },
  "language_info": {
   "codemirror_mode": {
    "name": "ipython",
    "version": 3
   },
   "file_extension": ".py",
   "mimetype": "text/x-python",
   "name": "python",
   "nbconvert_exporter": "python",
   "pygments_lexer": "ipython3",
   "version": "3.10.9"
  }
 },
 "nbformat": 4,
 "nbformat_minor": 5
}
